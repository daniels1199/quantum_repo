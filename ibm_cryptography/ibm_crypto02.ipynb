{
 "cells": [
  {
   "cell_type": "markdown",
   "metadata": {},
   "source": [
    "#Lesson 2\n",
    "\n",
    "Symmetric Key Cryptography"
   ]
  },
  {
   "cell_type": "code",
   "execution_count": 2,
   "metadata": {},
   "outputs": [
    {
     "name": "stdout",
     "output_type": "stream",
     "text": [
      "Given plaintext: this is a strict top secret message for intended recipients only\n"
     ]
    }
   ],
   "source": [
    "from secretpy import Caesar\n",
    "from cryptography.hazmat.primitives.ciphers import Cipher, algorithms, modes\n",
    "from functools import reduce\n",
    "import numpy as np \n",
    "\n",
    "plaintext = u\"this is a strict top secret message for intended recipients only\"\n",
    "print(f\"Given plaintext: {plaintext}\")"
   ]
  },
  {
   "cell_type": "markdown",
   "metadata": {},
   "source": [
    "Caesar Cipher example:"
   ]
  },
  {
   "cell_type": "code",
   "execution_count": 11,
   "metadata": {},
   "outputs": [
    {
     "name": "stdout",
     "output_type": "stream",
     "text": [
      "Caesar ciphertext: ymnxenxefexywnhyeytuexjhwjyerjxxfljektwensyjsijiewjhnunjsyxetsqc\n",
      "Caesar plaintext: this is a strict top secret message for intended recipients only\n"
     ]
    }
   ],
   "source": [
    "#initialize the required python object doing Caesar shift encryption\n",
    "caesar_cipher = Caesar()\n",
    "\n",
    "#define the shift, ie key\n",
    "caesar_key = 5\n",
    "\n",
    "#define the alphabet\n",
    "alphabet=('a', 'b', 'c', 'd', 'e', 'f', 'g', 'h', 'i', 'j', 'k', 'l', 'm', 'n', 'o', 'p', 'q', 'r', 's', 't', 'u', 'v', 'w', 'x', 'y', 'z', ' ')\n",
    "\n",
    "caesar_ciphertext = caesar_cipher.encrypt(plaintext, caesar_key, alphabet)\n",
    "print(f\"Caesar ciphertext: {caesar_ciphertext}\")\n",
    "\n",
    "caesar_plaintext = caesar_cipher.decrypt(caesar_ciphertext, caesar_key, alphabet)\n",
    "print(f\"Caesar plaintext: {caesar_plaintext}\")"
   ]
  },
  {
   "cell_type": "markdown",
   "metadata": {},
   "source": [
    "AES example:"
   ]
  },
  {
   "cell_type": "code",
   "execution_count": 42,
   "metadata": {},
   "outputs": [
    {
     "name": "stdout",
     "output_type": "stream",
     "text": [
      "AES secret key: wlpoxeo a fnlwsx\n"
     ]
    }
   ],
   "source": [
    "# lamba defines an inline function in this case that takes two values a,b with the resulting expression of a+b\n",
    "# reduce uses a two-argument function(above), and applies this to all the entries in the list (random alphabet characters) cumulatively\n",
    "aes_key = reduce(lambda a,b: a + b, [np.random.choice(alphabet) for i in range(16)])\n",
    "\n",
    "print(f\"AES secret key: {aes_key}\")"
   ]
  },
  {
   "cell_type": "code",
   "execution_count": 43,
   "metadata": {},
   "outputs": [
    {
     "name": "stdout",
     "output_type": "stream",
     "text": [
      "AES initialization vector: mkmkeecoudxrkapy\n"
     ]
    }
   ],
   "source": [
    "aes_init_vector = reduce(lambda a, b: a + b, [np.random.choice(alphabet) for i in range(16)])\n",
    "print(f\"AES initialization vector: {aes_init_vector}\")"
   ]
  },
  {
   "cell_type": "markdown",
   "metadata": {},
   "source": [
    "AES encryption algorithm:"
   ]
  },
  {
   "cell_type": "code",
   "execution_count": 44,
   "metadata": {},
   "outputs": [
    {
     "name": "stdout",
     "output_type": "stream",
     "text": [
      "Encryted AES ciphertext: b'&\\x04}\\xb6L\\xc5\\xd5\\xc3\\xe0\\xc0+G36G\\xe5\\x01\\x7f\\x7f\\xb5\\x013\\x08\\xcd\\xa5\\xca:2\\xa9]\\xf8\\xdc\\xe2)H\\xda(\\x19\\x15\\xde*1-/\\x8a>\\xc6?\\x10\\xa0\\xa7\\x078m\\xec\\xe6\\x96\\x8e\\x89x|\\x84`\\xf4'\n"
     ]
    }
   ],
   "source": [
    "# The encryptor is setup using the key & CBC. In both cases we need to convert the string (utf-8) into bytes\n",
    "sender_cipher = Cipher(algorithms.AES(bytes(aes_key, 'utf-8')), modes.CBC(bytes(aes_init_vector, 'utf-8')))\n",
    "aes_encryptor = sender_cipher.encryptor()\n",
    "# update can add text to encypt in chunks, and then finalize is needed to complete the encryption process\n",
    "aes_ciphertext = aes_encryptor.update(bytes(plaintext, 'utf-8')) + aes_encryptor.finalize()\n",
    "# Note the output is a string of bytes\n",
    "print(f\"Encryted AES ciphertext: {aes_ciphertext}\")"
   ]
  },
  {
   "cell_type": "markdown",
   "metadata": {},
   "source": [
    "AES decryption algorithm:"
   ]
  },
  {
   "cell_type": "code",
   "execution_count": 45,
   "metadata": {},
   "outputs": [
    {
     "name": "stdout",
     "output_type": "stream",
     "text": [
      "Decrypted AES plaintext: this is a strict top secret message for intended recipients only\n"
     ]
    }
   ],
   "source": [
    "#Similar setup of AES to what we did for encryption, but this time, for decryption\n",
    "receiver_cipher = Cipher(algorithms.AES(bytes(aes_key, 'utf-8')), modes.CBC(bytes(aes_init_vector, 'utf-8')))\n",
    "aes_decryptor = receiver_cipher.decryptor()\n",
    "#Do the decryption\n",
    "aes_plaintext_bytes = aes_decryptor.update(aes_ciphertext) + aes_decryptor.finalize()\n",
    "#Convert back to utf-8 character string\n",
    "aes_plaintext = aes_plaintext_bytes.decode('utf-8')\n",
    "\n",
    "print(f\"Decrypted AES plaintext: {aes_plaintext}\")"
   ]
  }
 ],
 "metadata": {
  "kernelspec": {
   "display_name": "Python 3",
   "language": "python",
   "name": "python3"
  },
  "language_info": {
   "codemirror_mode": {
    "name": "ipython",
    "version": 3
   },
   "file_extension": ".py",
   "mimetype": "text/x-python",
   "name": "python",
   "nbconvert_exporter": "python",
   "pygments_lexer": "ipython3",
   "version": "3.10.12"
  }
 },
 "nbformat": 4,
 "nbformat_minor": 2
}
